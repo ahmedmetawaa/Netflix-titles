{
 "cells": [
  {
   "cell_type": "code",
   "execution_count": 37,
   "metadata": {},
   "outputs": [],
   "source": [
    "import pandas as pd\n",
    "import numpy as np\n",
    "import matplotlib.pyplot as plt\n",
    "import seaborn as sns"
   ]
  },
  {
   "cell_type": "code",
   "execution_count": 38,
   "metadata": {},
   "outputs": [],
   "source": [
    "df = pd.read_csv(\"netflix_titles.csv\")"
   ]
  },
  {
   "cell_type": "code",
   "execution_count": 39,
   "metadata": {},
   "outputs": [
    {
     "data": {
      "text/html": [
       "<div>\n",
       "<style scoped>\n",
       "    .dataframe tbody tr th:only-of-type {\n",
       "        vertical-align: middle;\n",
       "    }\n",
       "\n",
       "    .dataframe tbody tr th {\n",
       "        vertical-align: top;\n",
       "    }\n",
       "\n",
       "    .dataframe thead th {\n",
       "        text-align: right;\n",
       "    }\n",
       "</style>\n",
       "<table border=\"1\" class=\"dataframe\">\n",
       "  <thead>\n",
       "    <tr style=\"text-align: right;\">\n",
       "      <th></th>\n",
       "      <th>show_id</th>\n",
       "      <th>type</th>\n",
       "      <th>title</th>\n",
       "      <th>director</th>\n",
       "      <th>cast</th>\n",
       "      <th>country</th>\n",
       "      <th>date_added</th>\n",
       "      <th>release_year</th>\n",
       "      <th>rating</th>\n",
       "      <th>duration</th>\n",
       "      <th>listed_in</th>\n",
       "      <th>description</th>\n",
       "    </tr>\n",
       "  </thead>\n",
       "  <tbody>\n",
       "    <tr>\n",
       "      <th>0</th>\n",
       "      <td>s1</td>\n",
       "      <td>Movie</td>\n",
       "      <td>Dick Johnson Is Dead</td>\n",
       "      <td>Kirsten Johnson</td>\n",
       "      <td>NaN</td>\n",
       "      <td>United States</td>\n",
       "      <td>September 25, 2021</td>\n",
       "      <td>2020</td>\n",
       "      <td>PG-13</td>\n",
       "      <td>90 min</td>\n",
       "      <td>Documentaries</td>\n",
       "      <td>As her father nears the end of his life, filmm...</td>\n",
       "    </tr>\n",
       "    <tr>\n",
       "      <th>1</th>\n",
       "      <td>s2</td>\n",
       "      <td>TV Show</td>\n",
       "      <td>Blood &amp; Water</td>\n",
       "      <td>NaN</td>\n",
       "      <td>Ama Qamata, Khosi Ngema, Gail Mabalane, Thaban...</td>\n",
       "      <td>South Africa</td>\n",
       "      <td>September 24, 2021</td>\n",
       "      <td>2021</td>\n",
       "      <td>TV-MA</td>\n",
       "      <td>2 Seasons</td>\n",
       "      <td>International TV Shows, TV Dramas, TV Mysteries</td>\n",
       "      <td>After crossing paths at a party, a Cape Town t...</td>\n",
       "    </tr>\n",
       "    <tr>\n",
       "      <th>2</th>\n",
       "      <td>s3</td>\n",
       "      <td>TV Show</td>\n",
       "      <td>Ganglands</td>\n",
       "      <td>Julien Leclercq</td>\n",
       "      <td>Sami Bouajila, Tracy Gotoas, Samuel Jouy, Nabi...</td>\n",
       "      <td>NaN</td>\n",
       "      <td>September 24, 2021</td>\n",
       "      <td>2021</td>\n",
       "      <td>TV-MA</td>\n",
       "      <td>1 Season</td>\n",
       "      <td>Crime TV Shows, International TV Shows, TV Act...</td>\n",
       "      <td>To protect his family from a powerful drug lor...</td>\n",
       "    </tr>\n",
       "    <tr>\n",
       "      <th>3</th>\n",
       "      <td>s4</td>\n",
       "      <td>TV Show</td>\n",
       "      <td>Jailbirds New Orleans</td>\n",
       "      <td>NaN</td>\n",
       "      <td>NaN</td>\n",
       "      <td>NaN</td>\n",
       "      <td>September 24, 2021</td>\n",
       "      <td>2021</td>\n",
       "      <td>TV-MA</td>\n",
       "      <td>1 Season</td>\n",
       "      <td>Docuseries, Reality TV</td>\n",
       "      <td>Feuds, flirtations and toilet talk go down amo...</td>\n",
       "    </tr>\n",
       "    <tr>\n",
       "      <th>4</th>\n",
       "      <td>s5</td>\n",
       "      <td>TV Show</td>\n",
       "      <td>Kota Factory</td>\n",
       "      <td>NaN</td>\n",
       "      <td>Mayur More, Jitendra Kumar, Ranjan Raj, Alam K...</td>\n",
       "      <td>India</td>\n",
       "      <td>September 24, 2021</td>\n",
       "      <td>2021</td>\n",
       "      <td>TV-MA</td>\n",
       "      <td>2 Seasons</td>\n",
       "      <td>International TV Shows, Romantic TV Shows, TV ...</td>\n",
       "      <td>In a city of coaching centers known to train I...</td>\n",
       "    </tr>\n",
       "  </tbody>\n",
       "</table>\n",
       "</div>"
      ],
      "text/plain": [
       "  show_id     type                  title         director  \\\n",
       "0      s1    Movie   Dick Johnson Is Dead  Kirsten Johnson   \n",
       "1      s2  TV Show          Blood & Water              NaN   \n",
       "2      s3  TV Show              Ganglands  Julien Leclercq   \n",
       "3      s4  TV Show  Jailbirds New Orleans              NaN   \n",
       "4      s5  TV Show           Kota Factory              NaN   \n",
       "\n",
       "                                                cast        country  \\\n",
       "0                                                NaN  United States   \n",
       "1  Ama Qamata, Khosi Ngema, Gail Mabalane, Thaban...   South Africa   \n",
       "2  Sami Bouajila, Tracy Gotoas, Samuel Jouy, Nabi...            NaN   \n",
       "3                                                NaN            NaN   \n",
       "4  Mayur More, Jitendra Kumar, Ranjan Raj, Alam K...          India   \n",
       "\n",
       "           date_added  release_year rating   duration  \\\n",
       "0  September 25, 2021          2020  PG-13     90 min   \n",
       "1  September 24, 2021          2021  TV-MA  2 Seasons   \n",
       "2  September 24, 2021          2021  TV-MA   1 Season   \n",
       "3  September 24, 2021          2021  TV-MA   1 Season   \n",
       "4  September 24, 2021          2021  TV-MA  2 Seasons   \n",
       "\n",
       "                                           listed_in  \\\n",
       "0                                      Documentaries   \n",
       "1    International TV Shows, TV Dramas, TV Mysteries   \n",
       "2  Crime TV Shows, International TV Shows, TV Act...   \n",
       "3                             Docuseries, Reality TV   \n",
       "4  International TV Shows, Romantic TV Shows, TV ...   \n",
       "\n",
       "                                         description  \n",
       "0  As her father nears the end of his life, filmm...  \n",
       "1  After crossing paths at a party, a Cape Town t...  \n",
       "2  To protect his family from a powerful drug lor...  \n",
       "3  Feuds, flirtations and toilet talk go down amo...  \n",
       "4  In a city of coaching centers known to train I...  "
      ]
     },
     "execution_count": 39,
     "metadata": {},
     "output_type": "execute_result"
    }
   ],
   "source": [
    "df.head()"
   ]
  },
  {
   "cell_type": "code",
   "execution_count": 40,
   "metadata": {},
   "outputs": [
    {
     "name": "stdout",
     "output_type": "stream",
     "text": [
      "<class 'pandas.core.frame.DataFrame'>\n",
      "RangeIndex: 8807 entries, 0 to 8806\n",
      "Data columns (total 12 columns):\n",
      " #   Column        Non-Null Count  Dtype \n",
      "---  ------        --------------  ----- \n",
      " 0   show_id       8807 non-null   object\n",
      " 1   type          8807 non-null   object\n",
      " 2   title         8807 non-null   object\n",
      " 3   director      6173 non-null   object\n",
      " 4   cast          7982 non-null   object\n",
      " 5   country       7976 non-null   object\n",
      " 6   date_added    8797 non-null   object\n",
      " 7   release_year  8807 non-null   int64 \n",
      " 8   rating        8803 non-null   object\n",
      " 9   duration      8804 non-null   object\n",
      " 10  listed_in     8807 non-null   object\n",
      " 11  description   8807 non-null   object\n",
      "dtypes: int64(1), object(11)\n",
      "memory usage: 825.8+ KB\n"
     ]
    }
   ],
   "source": [
    "df.info()"
   ]
  },
  {
   "cell_type": "markdown",
   "metadata": {},
   "source": [
    "## fill the null values in the important columns"
   ]
  },
  {
   "cell_type": "code",
   "execution_count": 41,
   "metadata": {},
   "outputs": [
    {
     "data": {
      "text/plain": [
       "United States                                       2818\n",
       "India                                                972\n",
       "United Kingdom                                       419\n",
       "Japan                                                245\n",
       "South Korea                                          199\n",
       "                                                    ... \n",
       "Argentina, France, United States, Germany, Qatar       1\n",
       "Germany, United States, Canada                         1\n",
       "France, South Korea, Japan, United States              1\n",
       "France, Germany                                        1\n",
       "Uruguay, Germany                                       1\n",
       "Name: country, Length: 748, dtype: int64"
      ]
     },
     "execution_count": 41,
     "metadata": {},
     "output_type": "execute_result"
    }
   ],
   "source": [
    "df[\"country\"].value_counts()"
   ]
  },
  {
   "cell_type": "code",
   "execution_count": 42,
   "metadata": {},
   "outputs": [],
   "source": [
    "df[\"country\"]= df[\"country\"].fillna(\"United States\")"
   ]
  },
  {
   "cell_type": "code",
   "execution_count": 44,
   "metadata": {},
   "outputs": [
    {
     "name": "stdout",
     "output_type": "stream",
     "text": [
      "<class 'pandas.core.frame.DataFrame'>\n",
      "RangeIndex: 8807 entries, 0 to 8806\n",
      "Data columns (total 12 columns):\n",
      " #   Column        Non-Null Count  Dtype \n",
      "---  ------        --------------  ----- \n",
      " 0   show_id       8807 non-null   object\n",
      " 1   type          8807 non-null   object\n",
      " 2   title         8807 non-null   object\n",
      " 3   director      6173 non-null   object\n",
      " 4   cast          7982 non-null   object\n",
      " 5   country       8807 non-null   object\n",
      " 6   date_added    8797 non-null   object\n",
      " 7   release_year  8807 non-null   int64 \n",
      " 8   rating        8803 non-null   object\n",
      " 9   duration      8804 non-null   object\n",
      " 10  listed_in     8807 non-null   object\n",
      " 11  description   8807 non-null   object\n",
      "dtypes: int64(1), object(11)\n",
      "memory usage: 825.8+ KB\n"
     ]
    }
   ],
   "source": [
    "df.info()"
   ]
  },
  {
   "cell_type": "markdown",
   "metadata": {},
   "source": [
    "## drop the non-important columns in my analysis"
   ]
  },
  {
   "cell_type": "code",
   "execution_count": 45,
   "metadata": {},
   "outputs": [],
   "source": [
    "df.drop([\"show_id\",\"listed_in\",\"duration\"], axis=1, inplace=True)"
   ]
  },
  {
   "cell_type": "code",
   "execution_count": 46,
   "metadata": {},
   "outputs": [
    {
     "data": {
      "text/html": [
       "<div>\n",
       "<style scoped>\n",
       "    .dataframe tbody tr th:only-of-type {\n",
       "        vertical-align: middle;\n",
       "    }\n",
       "\n",
       "    .dataframe tbody tr th {\n",
       "        vertical-align: top;\n",
       "    }\n",
       "\n",
       "    .dataframe thead th {\n",
       "        text-align: right;\n",
       "    }\n",
       "</style>\n",
       "<table border=\"1\" class=\"dataframe\">\n",
       "  <thead>\n",
       "    <tr style=\"text-align: right;\">\n",
       "      <th></th>\n",
       "      <th>type</th>\n",
       "      <th>title</th>\n",
       "      <th>director</th>\n",
       "      <th>cast</th>\n",
       "      <th>country</th>\n",
       "      <th>date_added</th>\n",
       "      <th>release_year</th>\n",
       "      <th>rating</th>\n",
       "      <th>description</th>\n",
       "    </tr>\n",
       "  </thead>\n",
       "  <tbody>\n",
       "    <tr>\n",
       "      <th>0</th>\n",
       "      <td>Movie</td>\n",
       "      <td>Dick Johnson Is Dead</td>\n",
       "      <td>Kirsten Johnson</td>\n",
       "      <td>NaN</td>\n",
       "      <td>United States</td>\n",
       "      <td>September 25, 2021</td>\n",
       "      <td>2020</td>\n",
       "      <td>PG-13</td>\n",
       "      <td>As her father nears the end of his life, filmm...</td>\n",
       "    </tr>\n",
       "    <tr>\n",
       "      <th>1</th>\n",
       "      <td>TV Show</td>\n",
       "      <td>Blood &amp; Water</td>\n",
       "      <td>NaN</td>\n",
       "      <td>Ama Qamata, Khosi Ngema, Gail Mabalane, Thaban...</td>\n",
       "      <td>South Africa</td>\n",
       "      <td>September 24, 2021</td>\n",
       "      <td>2021</td>\n",
       "      <td>TV-MA</td>\n",
       "      <td>After crossing paths at a party, a Cape Town t...</td>\n",
       "    </tr>\n",
       "    <tr>\n",
       "      <th>2</th>\n",
       "      <td>TV Show</td>\n",
       "      <td>Ganglands</td>\n",
       "      <td>Julien Leclercq</td>\n",
       "      <td>Sami Bouajila, Tracy Gotoas, Samuel Jouy, Nabi...</td>\n",
       "      <td>United States</td>\n",
       "      <td>September 24, 2021</td>\n",
       "      <td>2021</td>\n",
       "      <td>TV-MA</td>\n",
       "      <td>To protect his family from a powerful drug lor...</td>\n",
       "    </tr>\n",
       "    <tr>\n",
       "      <th>3</th>\n",
       "      <td>TV Show</td>\n",
       "      <td>Jailbirds New Orleans</td>\n",
       "      <td>NaN</td>\n",
       "      <td>NaN</td>\n",
       "      <td>United States</td>\n",
       "      <td>September 24, 2021</td>\n",
       "      <td>2021</td>\n",
       "      <td>TV-MA</td>\n",
       "      <td>Feuds, flirtations and toilet talk go down amo...</td>\n",
       "    </tr>\n",
       "    <tr>\n",
       "      <th>4</th>\n",
       "      <td>TV Show</td>\n",
       "      <td>Kota Factory</td>\n",
       "      <td>NaN</td>\n",
       "      <td>Mayur More, Jitendra Kumar, Ranjan Raj, Alam K...</td>\n",
       "      <td>India</td>\n",
       "      <td>September 24, 2021</td>\n",
       "      <td>2021</td>\n",
       "      <td>TV-MA</td>\n",
       "      <td>In a city of coaching centers known to train I...</td>\n",
       "    </tr>\n",
       "  </tbody>\n",
       "</table>\n",
       "</div>"
      ],
      "text/plain": [
       "      type                  title         director  \\\n",
       "0    Movie   Dick Johnson Is Dead  Kirsten Johnson   \n",
       "1  TV Show          Blood & Water              NaN   \n",
       "2  TV Show              Ganglands  Julien Leclercq   \n",
       "3  TV Show  Jailbirds New Orleans              NaN   \n",
       "4  TV Show           Kota Factory              NaN   \n",
       "\n",
       "                                                cast        country  \\\n",
       "0                                                NaN  United States   \n",
       "1  Ama Qamata, Khosi Ngema, Gail Mabalane, Thaban...   South Africa   \n",
       "2  Sami Bouajila, Tracy Gotoas, Samuel Jouy, Nabi...  United States   \n",
       "3                                                NaN  United States   \n",
       "4  Mayur More, Jitendra Kumar, Ranjan Raj, Alam K...          India   \n",
       "\n",
       "           date_added  release_year rating  \\\n",
       "0  September 25, 2021          2020  PG-13   \n",
       "1  September 24, 2021          2021  TV-MA   \n",
       "2  September 24, 2021          2021  TV-MA   \n",
       "3  September 24, 2021          2021  TV-MA   \n",
       "4  September 24, 2021          2021  TV-MA   \n",
       "\n",
       "                                         description  \n",
       "0  As her father nears the end of his life, filmm...  \n",
       "1  After crossing paths at a party, a Cape Town t...  \n",
       "2  To protect his family from a powerful drug lor...  \n",
       "3  Feuds, flirtations and toilet talk go down amo...  \n",
       "4  In a city of coaching centers known to train I...  "
      ]
     },
     "execution_count": 46,
     "metadata": {},
     "output_type": "execute_result"
    }
   ],
   "source": [
    "df.head()"
   ]
  },
  {
   "cell_type": "markdown",
   "metadata": {},
   "source": [
    "## the  deplicated values"
   ]
  },
  {
   "cell_type": "code",
   "execution_count": 47,
   "metadata": {},
   "outputs": [
    {
     "data": {
      "text/html": [
       "<div>\n",
       "<style scoped>\n",
       "    .dataframe tbody tr th:only-of-type {\n",
       "        vertical-align: middle;\n",
       "    }\n",
       "\n",
       "    .dataframe tbody tr th {\n",
       "        vertical-align: top;\n",
       "    }\n",
       "\n",
       "    .dataframe thead th {\n",
       "        text-align: right;\n",
       "    }\n",
       "</style>\n",
       "<table border=\"1\" class=\"dataframe\">\n",
       "  <thead>\n",
       "    <tr style=\"text-align: right;\">\n",
       "      <th></th>\n",
       "      <th>type</th>\n",
       "      <th>title</th>\n",
       "      <th>director</th>\n",
       "      <th>cast</th>\n",
       "      <th>country</th>\n",
       "      <th>date_added</th>\n",
       "      <th>release_year</th>\n",
       "      <th>rating</th>\n",
       "      <th>description</th>\n",
       "    </tr>\n",
       "  </thead>\n",
       "  <tbody>\n",
       "  </tbody>\n",
       "</table>\n",
       "</div>"
      ],
      "text/plain": [
       "Empty DataFrame\n",
       "Columns: [type, title, director, cast, country, date_added, release_year, rating, description]\n",
       "Index: []"
      ]
     },
     "execution_count": 47,
     "metadata": {},
     "output_type": "execute_result"
    }
   ],
   "source": [
    "df[df.duplicated()]"
   ]
  },
  {
   "cell_type": "markdown",
   "metadata": {},
   "source": [
    "## show the count of each type"
   ]
  },
  {
   "cell_type": "code",
   "execution_count": 48,
   "metadata": {},
   "outputs": [
    {
     "data": {
      "text/plain": [
       "type\n",
       "Movie      6131\n",
       "TV Show    2676\n",
       "Name: type, dtype: int64"
      ]
     },
     "execution_count": 48,
     "metadata": {},
     "output_type": "execute_result"
    }
   ],
   "source": [
    "df.groupby(\"type\").type.count()"
   ]
  },
  {
   "cell_type": "code",
   "execution_count": 49,
   "metadata": {},
   "outputs": [
    {
     "name": "stderr",
     "output_type": "stream",
     "text": [
      "C:\\Users\\moh\\anaconda3\\lib\\site-packages\\seaborn\\_decorators.py:36: FutureWarning: Pass the following variable as a keyword arg: x. From version 0.12, the only valid positional argument will be `data`, and passing other arguments without an explicit keyword will result in an error or misinterpretation.\n",
      "  warnings.warn(\n"
     ]
    },
    {
     "data": {
      "image/png": "[encoded data removed]",
      "text/plain": [
       "<Figure size 432x288 with 1 Axes>"
      ]
     },
     "metadata": {
      "needs_background": "light"
     },
     "output_type": "display_data"
    }
   ],
   "source": [
    "sns.countplot(df['type']);"
   ]
  },
  {
   "cell_type": "markdown",
   "metadata": {},
   "source": [
    "## show all the movies that were released in 2000"
   ]
  },
  {
   "cell_type": "code",
   "execution_count": 50,
   "metadata": {},
   "outputs": [
    {
     "data": {
      "text/html": [
       "<div>\n",
       "<style scoped>\n",
       "    .dataframe tbody tr th:only-of-type {\n",
       "        vertical-align: middle;\n",
       "    }\n",
       "\n",
       "    .dataframe tbody tr th {\n",
       "        vertical-align: top;\n",
       "    }\n",
       "\n",
       "    .dataframe thead th {\n",
       "        text-align: right;\n",
       "    }\n",
       "</style>\n",
       "<table border=\"1\" class=\"dataframe\">\n",
       "  <thead>\n",
       "    <tr style=\"text-align: right;\">\n",
       "      <th></th>\n",
       "      <th>type</th>\n",
       "      <th>title</th>\n",
       "      <th>director</th>\n",
       "      <th>cast</th>\n",
       "      <th>country</th>\n",
       "      <th>date_added</th>\n",
       "      <th>release_year</th>\n",
       "      <th>rating</th>\n",
       "      <th>description</th>\n",
       "    </tr>\n",
       "  </thead>\n",
       "  <tbody>\n",
       "    <tr>\n",
       "      <th>180</th>\n",
       "      <td>Movie</td>\n",
       "      <td>The Nutty Professor II: The Klumps</td>\n",
       "      <td>Peter Segal</td>\n",
       "      <td>Eddie Murphy, Janet Jackson, Larry Miller, Joh...</td>\n",
       "      <td>United States</td>\n",
       "      <td>September 1, 2021</td>\n",
       "      <td>2000</td>\n",
       "      <td>PG-13</td>\n",
       "      <td>After getting engaged, Sherman Klump prepares ...</td>\n",
       "    </tr>\n",
       "    <tr>\n",
       "      <th>350</th>\n",
       "      <td>Movie</td>\n",
       "      <td>Space Cowboys</td>\n",
       "      <td>Clint Eastwood</td>\n",
       "      <td>Clint Eastwood, Tommy Lee Jones, Donald Suther...</td>\n",
       "      <td>United States</td>\n",
       "      <td>August 1, 2021</td>\n",
       "      <td>2000</td>\n",
       "      <td>PG-13</td>\n",
       "      <td>A retired engineer agrees to help NASA prevent...</td>\n",
       "    </tr>\n",
       "    <tr>\n",
       "      <th>359</th>\n",
       "      <td>Movie</td>\n",
       "      <td>The Original Kings of Comedy</td>\n",
       "      <td>Spike Lee</td>\n",
       "      <td>Steve Harvey, D.L. Hughley, Cedric the Enterta...</td>\n",
       "      <td>United States</td>\n",
       "      <td>August 1, 2021</td>\n",
       "      <td>2000</td>\n",
       "      <td>R</td>\n",
       "      <td>Comedians Steve Harvey, Cedric the Entertainer...</td>\n",
       "    </tr>\n",
       "    <tr>\n",
       "      <th>566</th>\n",
       "      <td>Movie</td>\n",
       "      <td>Charlie's Angels</td>\n",
       "      <td>McG</td>\n",
       "      <td>Cameron Diaz, Drew Barrymore, Lucy Liu, Bill M...</td>\n",
       "      <td>United States, Germany</td>\n",
       "      <td>July 1, 2021</td>\n",
       "      <td>2000</td>\n",
       "      <td>PG-13</td>\n",
       "      <td>A tight-knit trio of specially trained agents ...</td>\n",
       "    </tr>\n",
       "    <tr>\n",
       "      <th>593</th>\n",
       "      <td>Movie</td>\n",
       "      <td>Snow Day</td>\n",
       "      <td>Chris Koch</td>\n",
       "      <td>Chris Elliott, Mark Webber, Jean Smart, Schuyl...</td>\n",
       "      <td>United States</td>\n",
       "      <td>July 1, 2021</td>\n",
       "      <td>2000</td>\n",
       "      <td>PG</td>\n",
       "      <td>When a snow day shuts down the whole town, the...</td>\n",
       "    </tr>\n",
       "    <tr>\n",
       "      <th>779</th>\n",
       "      <td>Movie</td>\n",
       "      <td>Battlefield Earth</td>\n",
       "      <td>Roger Christian</td>\n",
       "      <td>John Travolta, Barry Pepper, Forest Whitaker, ...</td>\n",
       "      <td>United States</td>\n",
       "      <td>June 2, 2021</td>\n",
       "      <td>2000</td>\n",
       "      <td>PG-13</td>\n",
       "      <td>In the year 3000, an alien race known as the P...</td>\n",
       "    </tr>\n",
       "    <tr>\n",
       "      <th>952</th>\n",
       "      <td>Movie</td>\n",
       "      <td>The Whole Nine Yards</td>\n",
       "      <td>Jonathan Lynn</td>\n",
       "      <td>Bruce Willis, Matthew Perry, Rosanna Arquette,...</td>\n",
       "      <td>United States</td>\n",
       "      <td>May 1, 2021</td>\n",
       "      <td>2000</td>\n",
       "      <td>R</td>\n",
       "      <td>An unhappily married dentist becomes mixed up ...</td>\n",
       "    </tr>\n",
       "    <tr>\n",
       "      <th>3472</th>\n",
       "      <td>Movie</td>\n",
       "      <td>Rugrats in Paris: The Movie</td>\n",
       "      <td>Stig Bergqvist, Paul Demeyer</td>\n",
       "      <td>Elizabeth Daily, Tara Strong, Cheryl Chase, Ch...</td>\n",
       "      <td>Germany, United States</td>\n",
       "      <td>October 1, 2019</td>\n",
       "      <td>2000</td>\n",
       "      <td>G</td>\n",
       "      <td>The Rugrats take to the big screen and visit P...</td>\n",
       "    </tr>\n",
       "    <tr>\n",
       "      <th>4545</th>\n",
       "      <td>Movie</td>\n",
       "      <td>Monty Python: Before the Flying Circus</td>\n",
       "      <td>Will Yapp</td>\n",
       "      <td>Graham Chapman, Eric Idle, Terry Jones, Michae...</td>\n",
       "      <td>United Kingdom</td>\n",
       "      <td>October 2, 2018</td>\n",
       "      <td>2000</td>\n",
       "      <td>TV-MA</td>\n",
       "      <td>Discover how six seemingly ordinary but suprem...</td>\n",
       "    </tr>\n",
       "    <tr>\n",
       "      <th>4723</th>\n",
       "      <td>Movie</td>\n",
       "      <td>Fiza</td>\n",
       "      <td>Khalid Mohamed</td>\n",
       "      <td>Karisma Kapoor, Jaya Bhaduri, Hrithik Roshan, ...</td>\n",
       "      <td>India</td>\n",
       "      <td>August 2, 2018</td>\n",
       "      <td>2000</td>\n",
       "      <td>TV-14</td>\n",
       "      <td>Fiza's brother disappears during Mumbai's horr...</td>\n",
       "    </tr>\n",
       "    <tr>\n",
       "      <th>4956</th>\n",
       "      <td>Movie</td>\n",
       "      <td>Phir Bhi Dil Hai Hindustani</td>\n",
       "      <td>Aziz Mirza</td>\n",
       "      <td>Shah Rukh Khan, Juhi Chawla, Paresh Rawal, Sat...</td>\n",
       "      <td>India</td>\n",
       "      <td>April 1, 2018</td>\n",
       "      <td>2000</td>\n",
       "      <td>TV-14</td>\n",
       "      <td>In this Bollywood entertainment, two journalis...</td>\n",
       "    </tr>\n",
       "    <tr>\n",
       "      <th>5953</th>\n",
       "      <td>Movie</td>\n",
       "      <td>Joseph: King of Dreams</td>\n",
       "      <td>Rob LaDuca, Robert C. Ramirez</td>\n",
       "      <td>Ben Affleck, Mark Hamill, Richard Herd, Mauree...</td>\n",
       "      <td>United States, France, United Kingdom</td>\n",
       "      <td>September 27, 2011</td>\n",
       "      <td>2000</td>\n",
       "      <td>TV-PG</td>\n",
       "      <td>With his gift of dream interpretation and his ...</td>\n",
       "    </tr>\n",
       "    <tr>\n",
       "      <th>6006</th>\n",
       "      <td>Movie</td>\n",
       "      <td>28 Days</td>\n",
       "      <td>Betty Thomas</td>\n",
       "      <td>Sandra Bullock, Viggo Mortensen, Dominic West,...</td>\n",
       "      <td>United States</td>\n",
       "      <td>September 30, 2020</td>\n",
       "      <td>2000</td>\n",
       "      <td>PG-13</td>\n",
       "      <td>After her drunken antics result in property da...</td>\n",
       "    </tr>\n",
       "    <tr>\n",
       "      <th>6147</th>\n",
       "      <td>Movie</td>\n",
       "      <td>American Psycho</td>\n",
       "      <td>Mary Harron</td>\n",
       "      <td>Christian Bale, Willem Dafoe, Jared Leto, Rees...</td>\n",
       "      <td>United States, Canada</td>\n",
       "      <td>September 1, 2019</td>\n",
       "      <td>2000</td>\n",
       "      <td>R</td>\n",
       "      <td>With chiseled good looks that belie his insani...</td>\n",
       "    </tr>\n",
       "    <tr>\n",
       "      <th>6154</th>\n",
       "      <td>Movie</td>\n",
       "      <td>An American Tail: The Treasures of Manhattan I...</td>\n",
       "      <td>Larry Latham</td>\n",
       "      <td>Thomas Dekker, Dom DeLuise, Pat Musick, Nehemi...</td>\n",
       "      <td>United States</td>\n",
       "      <td>April 1, 2018</td>\n",
       "      <td>2000</td>\n",
       "      <td>G</td>\n",
       "      <td>When Fievel and friends go hunting for buried ...</td>\n",
       "    </tr>\n",
       "    <tr>\n",
       "      <th>6311</th>\n",
       "      <td>Movie</td>\n",
       "      <td>Billy Elliot</td>\n",
       "      <td>Stephen Daldry</td>\n",
       "      <td>Jamie Bell, Gary Lewis, Stuart Wells, Billy Fa...</td>\n",
       "      <td>United Kingdom, France</td>\n",
       "      <td>February 1, 2019</td>\n",
       "      <td>2000</td>\n",
       "      <td>R</td>\n",
       "      <td>When a boy trades boxing school for ballet les...</td>\n",
       "    </tr>\n",
       "    <tr>\n",
       "      <th>6437</th>\n",
       "      <td>Movie</td>\n",
       "      <td>Center Stage</td>\n",
       "      <td>Nicholas Hytner</td>\n",
       "      <td>Amanda Schull, Zoe Saldana, Susan May Pratt, P...</td>\n",
       "      <td>United States</td>\n",
       "      <td>January 1, 2020</td>\n",
       "      <td>2000</td>\n",
       "      <td>PG-13</td>\n",
       "      <td>Vying for a spot in the American Ballet Compan...</td>\n",
       "    </tr>\n",
       "    <tr>\n",
       "      <th>6440</th>\n",
       "      <td>Movie</td>\n",
       "      <td>Chal Mere Bhai</td>\n",
       "      <td>David Dhawan</td>\n",
       "      <td>Sanjay Dutt, Salman Khan, Karisma Kapoor, Dali...</td>\n",
       "      <td>India</td>\n",
       "      <td>December 31, 2019</td>\n",
       "      <td>2000</td>\n",
       "      <td>TV-14</td>\n",
       "      <td>When a secretary saves her tycoon boss's life,...</td>\n",
       "    </tr>\n",
       "    <tr>\n",
       "      <th>6543</th>\n",
       "      <td>Movie</td>\n",
       "      <td>Crouching Tiger, Hidden Dragon</td>\n",
       "      <td>Ang Lee</td>\n",
       "      <td>Chow Yun Fat, Michelle Yeoh, Zhang Ziyi, Chang...</td>\n",
       "      <td>Taiwan, Hong Kong, United States, China</td>\n",
       "      <td>March 1, 2019</td>\n",
       "      <td>2000</td>\n",
       "      <td>PG-13</td>\n",
       "      <td>A young woman in ancient China longs for an ad...</td>\n",
       "    </tr>\n",
       "    <tr>\n",
       "      <th>6643</th>\n",
       "      <td>Movie</td>\n",
       "      <td>Dragonheart: A New Beginning</td>\n",
       "      <td>Doug Lefler</td>\n",
       "      <td>Christopher Masterson, Harry Van Gorkum, Rona ...</td>\n",
       "      <td>United States</td>\n",
       "      <td>January 1, 2020</td>\n",
       "      <td>2000</td>\n",
       "      <td>PG</td>\n",
       "      <td>This sequel introduces Draco the dragon's offs...</td>\n",
       "    </tr>\n",
       "  </tbody>\n",
       "</table>\n",
       "</div>"
      ],
      "text/plain": [
       "       type                                              title  \\\n",
       "180   Movie                 The Nutty Professor II: The Klumps   \n",
       "350   Movie                                      Space Cowboys   \n",
       "359   Movie                       The Original Kings of Comedy   \n",
       "566   Movie                                   Charlie's Angels   \n",
       "593   Movie                                           Snow Day   \n",
       "779   Movie                                  Battlefield Earth   \n",
       "952   Movie                               The Whole Nine Yards   \n",
       "3472  Movie                        Rugrats in Paris: The Movie   \n",
       "4545  Movie             Monty Python: Before the Flying Circus   \n",
       "4723  Movie                                               Fiza   \n",
       "4956  Movie                        Phir Bhi Dil Hai Hindustani   \n",
       "5953  Movie                             Joseph: King of Dreams   \n",
       "6006  Movie                                            28 Days   \n",
       "6147  Movie                                    American Psycho   \n",
       "6154  Movie  An American Tail: The Treasures of Manhattan I...   \n",
       "6311  Movie                                       Billy Elliot   \n",
       "6437  Movie                                       Center Stage   \n",
       "6440  Movie                                     Chal Mere Bhai   \n",
       "6543  Movie                     Crouching Tiger, Hidden Dragon   \n",
       "6643  Movie                       Dragonheart: A New Beginning   \n",
       "\n",
       "                           director  \\\n",
       "180                     Peter Segal   \n",
       "350                  Clint Eastwood   \n",
       "359                       Spike Lee   \n",
       "566                             McG   \n",
       "593                      Chris Koch   \n",
       "779                 Roger Christian   \n",
       "952                   Jonathan Lynn   \n",
       "3472   Stig Bergqvist, Paul Demeyer   \n",
       "4545                      Will Yapp   \n",
       "4723                 Khalid Mohamed   \n",
       "4956                     Aziz Mirza   \n",
       "5953  Rob LaDuca, Robert C. Ramirez   \n",
       "6006                   Betty Thomas   \n",
       "6147                    Mary Harron   \n",
       "6154                   Larry Latham   \n",
       "6311                 Stephen Daldry   \n",
       "6437                Nicholas Hytner   \n",
       "6440                   David Dhawan   \n",
       "6543                        Ang Lee   \n",
       "6643                    Doug Lefler   \n",
       "\n",
       "                                                   cast  \\\n",
       "180   Eddie Murphy, Janet Jackson, Larry Miller, Joh...   \n",
       "350   Clint Eastwood, Tommy Lee Jones, Donald Suther...   \n",
       "359   Steve Harvey, D.L. Hughley, Cedric the Enterta...   \n",
       "566   Cameron Diaz, Drew Barrymore, Lucy Liu, Bill M...   \n",
       "593   Chris Elliott, Mark Webber, Jean Smart, Schuyl...   \n",
       "779   John Travolta, Barry Pepper, Forest Whitaker, ...   \n",
       "952   Bruce Willis, Matthew Perry, Rosanna Arquette,...   \n",
       "3472  Elizabeth Daily, Tara Strong, Cheryl Chase, Ch...   \n",
       "4545  Graham Chapman, Eric Idle, Terry Jones, Michae...   \n",
       "4723  Karisma Kapoor, Jaya Bhaduri, Hrithik Roshan, ...   \n",
       "4956  Shah Rukh Khan, Juhi Chawla, Paresh Rawal, Sat...   \n",
       "5953  Ben Affleck, Mark Hamill, Richard Herd, Mauree...   \n",
       "6006  Sandra Bullock, Viggo Mortensen, Dominic West,...   \n",
       "6147  Christian Bale, Willem Dafoe, Jared Leto, Rees...   \n",
       "6154  Thomas Dekker, Dom DeLuise, Pat Musick, Nehemi...   \n",
       "6311  Jamie Bell, Gary Lewis, Stuart Wells, Billy Fa...   \n",
       "6437  Amanda Schull, Zoe Saldana, Susan May Pratt, P...   \n",
       "6440  Sanjay Dutt, Salman Khan, Karisma Kapoor, Dali...   \n",
       "6543  Chow Yun Fat, Michelle Yeoh, Zhang Ziyi, Chang...   \n",
       "6643  Christopher Masterson, Harry Van Gorkum, Rona ...   \n",
       "\n",
       "                                      country          date_added  \\\n",
       "180                             United States   September 1, 2021   \n",
       "350                             United States      August 1, 2021   \n",
       "359                             United States      August 1, 2021   \n",
       "566                    United States, Germany        July 1, 2021   \n",
       "593                             United States        July 1, 2021   \n",
       "779                             United States        June 2, 2021   \n",
       "952                             United States         May 1, 2021   \n",
       "3472                   Germany, United States     October 1, 2019   \n",
       "4545                           United Kingdom     October 2, 2018   \n",
       "4723                                    India      August 2, 2018   \n",
       "4956                                    India       April 1, 2018   \n",
       "5953    United States, France, United Kingdom  September 27, 2011   \n",
       "6006                            United States  September 30, 2020   \n",
       "6147                    United States, Canada   September 1, 2019   \n",
       "6154                            United States       April 1, 2018   \n",
       "6311                   United Kingdom, France    February 1, 2019   \n",
       "6437                            United States     January 1, 2020   \n",
       "6440                                    India   December 31, 2019   \n",
       "6543  Taiwan, Hong Kong, United States, China       March 1, 2019   \n",
       "6643                            United States     January 1, 2020   \n",
       "\n",
       "      release_year rating                                        description  \n",
       "180           2000  PG-13  After getting engaged, Sherman Klump prepares ...  \n",
       "350           2000  PG-13  A retired engineer agrees to help NASA prevent...  \n",
       "359           2000      R  Comedians Steve Harvey, Cedric the Entertainer...  \n",
       "566           2000  PG-13  A tight-knit trio of specially trained agents ...  \n",
       "593           2000     PG  When a snow day shuts down the whole town, the...  \n",
       "779           2000  PG-13  In the year 3000, an alien race known as the P...  \n",
       "952           2000      R  An unhappily married dentist becomes mixed up ...  \n",
       "3472          2000      G  The Rugrats take to the big screen and visit P...  \n",
       "4545          2000  TV-MA  Discover how six seemingly ordinary but suprem...  \n",
       "4723          2000  TV-14  Fiza's brother disappears during Mumbai's horr...  \n",
       "4956          2000  TV-14  In this Bollywood entertainment, two journalis...  \n",
       "5953          2000  TV-PG  With his gift of dream interpretation and his ...  \n",
       "6006          2000  PG-13  After her drunken antics result in property da...  \n",
       "6147          2000      R  With chiseled good looks that belie his insani...  \n",
       "6154          2000      G  When Fievel and friends go hunting for buried ...  \n",
       "6311          2000      R  When a boy trades boxing school for ballet les...  \n",
       "6437          2000  PG-13  Vying for a spot in the American Ballet Compan...  \n",
       "6440          2000  TV-14  When a secretary saves her tycoon boss's life,...  \n",
       "6543          2000  PG-13  A young woman in ancient China longs for an ad...  \n",
       "6643          2000     PG  This sequel introduces Draco the dragon's offs...  "
      ]
     },
     "execution_count": 50,
     "metadata": {},
     "output_type": "execute_result"
    }
   ],
   "source": [
    "df[(df[\"type\"] == \"Movie\") & ( df['release_year']==2000) ].head(20)"
   ]
  },
  {
   "cell_type": "markdown",
   "metadata": {},
   "source": [
    "## which were the top 5 years in number of titles released.."
   ]
  },
  {
   "cell_type": "code",
   "execution_count": 51,
   "metadata": {},
   "outputs": [
    {
     "data": {
      "text/html": [
       "<div>\n",
       "<style scoped>\n",
       "    .dataframe tbody tr th:only-of-type {\n",
       "        vertical-align: middle;\n",
       "    }\n",
       "\n",
       "    .dataframe tbody tr th {\n",
       "        vertical-align: top;\n",
       "    }\n",
       "\n",
       "    .dataframe thead th {\n",
       "        text-align: right;\n",
       "    }\n",
       "</style>\n",
       "<table border=\"1\" class=\"dataframe\">\n",
       "  <thead>\n",
       "    <tr style=\"text-align: right;\">\n",
       "      <th></th>\n",
       "      <th>release_year</th>\n",
       "      <th>type</th>\n",
       "      <th>title</th>\n",
       "      <th>director</th>\n",
       "      <th>cast</th>\n",
       "      <th>country</th>\n",
       "      <th>date_added</th>\n",
       "      <th>rating</th>\n",
       "      <th>description</th>\n",
       "    </tr>\n",
       "  </thead>\n",
       "  <tbody>\n",
       "    <tr>\n",
       "      <th>0</th>\n",
       "      <td>2018</td>\n",
       "      <td>1147</td>\n",
       "      <td>1147</td>\n",
       "      <td>760</td>\n",
       "      <td>1026</td>\n",
       "      <td>1147</td>\n",
       "      <td>1146</td>\n",
       "      <td>1147</td>\n",
       "      <td>1147</td>\n",
       "    </tr>\n",
       "    <tr>\n",
       "      <th>1</th>\n",
       "      <td>2017</td>\n",
       "      <td>1032</td>\n",
       "      <td>1032</td>\n",
       "      <td>773</td>\n",
       "      <td>912</td>\n",
       "      <td>1032</td>\n",
       "      <td>1032</td>\n",
       "      <td>1031</td>\n",
       "      <td>1032</td>\n",
       "    </tr>\n",
       "    <tr>\n",
       "      <th>2</th>\n",
       "      <td>2019</td>\n",
       "      <td>1030</td>\n",
       "      <td>1030</td>\n",
       "      <td>629</td>\n",
       "      <td>917</td>\n",
       "      <td>1030</td>\n",
       "      <td>1030</td>\n",
       "      <td>1030</td>\n",
       "      <td>1030</td>\n",
       "    </tr>\n",
       "    <tr>\n",
       "      <th>3</th>\n",
       "      <td>2020</td>\n",
       "      <td>953</td>\n",
       "      <td>953</td>\n",
       "      <td>548</td>\n",
       "      <td>827</td>\n",
       "      <td>953</td>\n",
       "      <td>953</td>\n",
       "      <td>953</td>\n",
       "      <td>953</td>\n",
       "    </tr>\n",
       "    <tr>\n",
       "      <th>4</th>\n",
       "      <td>2016</td>\n",
       "      <td>902</td>\n",
       "      <td>902</td>\n",
       "      <td>653</td>\n",
       "      <td>804</td>\n",
       "      <td>902</td>\n",
       "      <td>901</td>\n",
       "      <td>902</td>\n",
       "      <td>902</td>\n",
       "    </tr>\n",
       "    <tr>\n",
       "      <th>5</th>\n",
       "      <td>2021</td>\n",
       "      <td>592</td>\n",
       "      <td>592</td>\n",
       "      <td>297</td>\n",
       "      <td>494</td>\n",
       "      <td>592</td>\n",
       "      <td>592</td>\n",
       "      <td>592</td>\n",
       "      <td>592</td>\n",
       "    </tr>\n",
       "  </tbody>\n",
       "</table>\n",
       "</div>"
      ],
      "text/plain": [
       "   release_year  type  title  director  cast  country  date_added  rating  \\\n",
       "0          2018  1147   1147       760  1026     1147        1146    1147   \n",
       "1          2017  1032   1032       773   912     1032        1032    1031   \n",
       "2          2019  1030   1030       629   917     1030        1030    1030   \n",
       "3          2020   953    953       548   827      953         953     953   \n",
       "4          2016   902    902       653   804      902         901     902   \n",
       "5          2021   592    592       297   494      592         592     592   \n",
       "\n",
       "   description  \n",
       "0         1147  \n",
       "1         1032  \n",
       "2         1030  \n",
       "3          953  \n",
       "4          902  \n",
       "5          592  "
      ]
     },
     "execution_count": 51,
     "metadata": {},
     "output_type": "execute_result"
    }
   ],
   "source": [
    "top_5_years = df.groupby(\"release_year\").count().sort_values('title', ascending=False).head(6)\n",
    "top_5_years.reset_index(inplace =True)\n",
    "top_5_years"
   ]
  },
  {
   "cell_type": "code",
   "execution_count": 52,
   "metadata": {},
   "outputs": [
    {
     "data": {
      "image/png": "[encoded data removed]",
      "text/plain": [
       "<Figure size 432x288 with 1 Axes>"
      ]
     },
     "metadata": {
      "needs_background": "light"
     },
     "output_type": "display_data"
    }
   ],
   "source": [
    "plt.bar(top_5_years.release_year ,top_5_years.title);"
   ]
  },
  {
   "cell_type": "markdown",
   "metadata": {},
   "source": [
    "## show the titles of all the TV shows that were released in egypt"
   ]
  },
  {
   "cell_type": "code",
   "execution_count": 66,
   "metadata": {},
   "outputs": [
    {
     "data": {
      "text/plain": [
       "4                        Kota Factory\n",
       "39                       Chhota Bheem\n",
       "50                      Dharmakshetra\n",
       "66      Raja Rasoi Aur Anya Kahaniyan\n",
       "69     Stories by Rabindranath Tagore\n",
       "266              The Creative Indians\n",
       "297                          Navarasa\n",
       "876                      Alma Matters\n",
       "911                  Sab Jholmaal Hai\n",
       "918                    Lava Ka Dhaava\n",
       "Name: title, dtype: string"
      ]
     },
     "execution_count": 66,
     "metadata": {},
     "output_type": "execute_result"
    }
   ],
   "source": [
    "df[(df[\"country\"] == \"India\") & (df[\"type\"] == \"TV Show\")] [\"title\"].head(10)"
   ]
  },
  {
   "cell_type": "markdown",
   "metadata": {},
   "source": [
    "## show top 10 directors who gave the highest number of TV shows and Movies to Netflix"
   ]
  },
  {
   "cell_type": "code",
   "execution_count": 54,
   "metadata": {},
   "outputs": [
    {
     "data": {
      "text/plain": [
       "Rajiv Chilaka             19\n",
       "Raúl Campos, Jan Suter    18\n",
       "Suhas Kadav               16\n",
       "Marcus Raboy              16\n",
       "Jay Karas                 14\n",
       "Cathy Garcia-Molina       13\n",
       "Jay Chapman               12\n",
       "Youssef Chahine           12\n",
       "Martin Scorsese           12\n",
       "Steven Spielberg          11\n",
       "Name: director, dtype: int64"
      ]
     },
     "execution_count": 54,
     "metadata": {},
     "output_type": "execute_result"
    }
   ],
   "source": [
    "df[\"director\"].value_counts().head(10)"
   ]
  },
  {
   "cell_type": "markdown",
   "metadata": {},
   "source": [
    "## which country has the most number of titles produced.."
   ]
  },
  {
   "cell_type": "code",
   "execution_count": 55,
   "metadata": {},
   "outputs": [
    {
     "data": {
      "text/html": [
       "<div>\n",
       "<style scoped>\n",
       "    .dataframe tbody tr th:only-of-type {\n",
       "        vertical-align: middle;\n",
       "    }\n",
       "\n",
       "    .dataframe tbody tr th {\n",
       "        vertical-align: top;\n",
       "    }\n",
       "\n",
       "    .dataframe thead th {\n",
       "        text-align: right;\n",
       "    }\n",
       "</style>\n",
       "<table border=\"1\" class=\"dataframe\">\n",
       "  <thead>\n",
       "    <tr style=\"text-align: right;\">\n",
       "      <th></th>\n",
       "      <th>country</th>\n",
       "      <th>type</th>\n",
       "      <th>title</th>\n",
       "      <th>director</th>\n",
       "      <th>cast</th>\n",
       "      <th>date_added</th>\n",
       "      <th>release_year</th>\n",
       "      <th>rating</th>\n",
       "      <th>description</th>\n",
       "    </tr>\n",
       "  </thead>\n",
       "  <tbody>\n",
       "    <tr>\n",
       "      <th>0</th>\n",
       "      <td>United States</td>\n",
       "      <td>3649</td>\n",
       "      <td>3649</td>\n",
       "      <td>2470</td>\n",
       "      <td>3165</td>\n",
       "      <td>3642</td>\n",
       "      <td>3649</td>\n",
       "      <td>3648</td>\n",
       "      <td>3649</td>\n",
       "    </tr>\n",
       "    <tr>\n",
       "      <th>1</th>\n",
       "      <td>India</td>\n",
       "      <td>972</td>\n",
       "      <td>972</td>\n",
       "      <td>890</td>\n",
       "      <td>940</td>\n",
       "      <td>972</td>\n",
       "      <td>972</td>\n",
       "      <td>972</td>\n",
       "      <td>972</td>\n",
       "    </tr>\n",
       "    <tr>\n",
       "      <th>2</th>\n",
       "      <td>United Kingdom</td>\n",
       "      <td>419</td>\n",
       "      <td>419</td>\n",
       "      <td>212</td>\n",
       "      <td>351</td>\n",
       "      <td>418</td>\n",
       "      <td>419</td>\n",
       "      <td>419</td>\n",
       "      <td>419</td>\n",
       "    </tr>\n",
       "    <tr>\n",
       "      <th>3</th>\n",
       "      <td>Japan</td>\n",
       "      <td>245</td>\n",
       "      <td>245</td>\n",
       "      <td>85</td>\n",
       "      <td>240</td>\n",
       "      <td>244</td>\n",
       "      <td>245</td>\n",
       "      <td>244</td>\n",
       "      <td>245</td>\n",
       "    </tr>\n",
       "    <tr>\n",
       "      <th>4</th>\n",
       "      <td>South Korea</td>\n",
       "      <td>199</td>\n",
       "      <td>199</td>\n",
       "      <td>49</td>\n",
       "      <td>196</td>\n",
       "      <td>199</td>\n",
       "      <td>199</td>\n",
       "      <td>199</td>\n",
       "      <td>199</td>\n",
       "    </tr>\n",
       "    <tr>\n",
       "      <th>5</th>\n",
       "      <td>Canada</td>\n",
       "      <td>181</td>\n",
       "      <td>181</td>\n",
       "      <td>119</td>\n",
       "      <td>162</td>\n",
       "      <td>181</td>\n",
       "      <td>181</td>\n",
       "      <td>181</td>\n",
       "      <td>181</td>\n",
       "    </tr>\n",
       "  </tbody>\n",
       "</table>\n",
       "</div>"
      ],
      "text/plain": [
       "          country  type  title  director  cast  date_added  release_year  \\\n",
       "0   United States  3649   3649      2470  3165        3642          3649   \n",
       "1           India   972    972       890   940         972           972   \n",
       "2  United Kingdom   419    419       212   351         418           419   \n",
       "3           Japan   245    245        85   240         244           245   \n",
       "4     South Korea   199    199        49   196         199           199   \n",
       "5          Canada   181    181       119   162         181           181   \n",
       "\n",
       "   rating  description  \n",
       "0    3648         3649  \n",
       "1     972          972  \n",
       "2     419          419  \n",
       "3     244          245  \n",
       "4     199          199  \n",
       "5     181          181  "
      ]
     },
     "execution_count": 55,
     "metadata": {},
     "output_type": "execute_result"
    }
   ],
   "source": [
    "most_titles_produced = df.groupby(\"country\").count().sort_values('title', ascending=False).head(6)\n",
    "most_titles_produced.reset_index(inplace = True)\n",
    "most_titles_produced"
   ]
  },
  {
   "cell_type": "code",
   "execution_count": 67,
   "metadata": {},
   "outputs": [
    {
     "data": {
      "image/png": "[encoded data removed]",
      "text/plain": [
       "<Figure size 576x576 with 1 Axes>"
      ]
     },
     "metadata": {},
     "output_type": "display_data"
    }
   ],
   "source": [
    "x = df[\"country\"].value_counts().head(5)\n",
    "x.plot(kind = 'pie' ,autopct='%0.f%%' ,figsize=(8,8));\n"
   ]
  },
  {
   "cell_type": "markdown",
   "metadata": {},
   "source": [
    "## show all works that Clint Eastwood participated in"
   ]
  },
  {
   "cell_type": "code",
   "execution_count": 57,
   "metadata": {},
   "outputs": [],
   "source": [
    "df = df.convert_dtypes()"
   ]
  },
  {
   "cell_type": "code",
   "execution_count": 58,
   "metadata": {},
   "outputs": [
    {
     "name": "stdout",
     "output_type": "stream",
     "text": [
      "<class 'pandas.core.frame.DataFrame'>\n",
      "RangeIndex: 8807 entries, 0 to 8806\n",
      "Data columns (total 9 columns):\n",
      " #   Column        Non-Null Count  Dtype \n",
      "---  ------        --------------  ----- \n",
      " 0   type          8807 non-null   string\n",
      " 1   title         8807 non-null   string\n",
      " 2   director      6173 non-null   string\n",
      " 3   cast          7982 non-null   string\n",
      " 4   country       8807 non-null   string\n",
      " 5   date_added    8797 non-null   string\n",
      " 6   release_year  8807 non-null   Int64 \n",
      " 7   rating        8803 non-null   string\n",
      " 8   description   8807 non-null   string\n",
      "dtypes: Int64(1), string(8)\n",
      "memory usage: 628.0 KB\n"
     ]
    }
   ],
   "source": [
    "df.info()"
   ]
  },
  {
   "cell_type": "code",
   "execution_count": 59,
   "metadata": {},
   "outputs": [
    {
     "data": {
      "text/html": [
       "<div>\n",
       "<style scoped>\n",
       "    .dataframe tbody tr th:only-of-type {\n",
       "        vertical-align: middle;\n",
       "    }\n",
       "\n",
       "    .dataframe tbody tr th {\n",
       "        vertical-align: top;\n",
       "    }\n",
       "\n",
       "    .dataframe thead th {\n",
       "        text-align: right;\n",
       "    }\n",
       "</style>\n",
       "<table border=\"1\" class=\"dataframe\">\n",
       "  <thead>\n",
       "    <tr style=\"text-align: right;\">\n",
       "      <th></th>\n",
       "      <th>type</th>\n",
       "      <th>title</th>\n",
       "      <th>director</th>\n",
       "      <th>cast</th>\n",
       "      <th>country</th>\n",
       "      <th>date_added</th>\n",
       "      <th>release_year</th>\n",
       "      <th>rating</th>\n",
       "      <th>description</th>\n",
       "    </tr>\n",
       "  </thead>\n",
       "  <tbody>\n",
       "    <tr>\n",
       "      <th>183</th>\n",
       "      <td>Movie</td>\n",
       "      <td>In the Line of Fire</td>\n",
       "      <td>Wolfgang Petersen</td>\n",
       "      <td>Clint Eastwood, John Malkovich, Rene Russo, Dy...</td>\n",
       "      <td>United States</td>\n",
       "      <td>August 31, 2021</td>\n",
       "      <td>1993</td>\n",
       "      <td>R</td>\n",
       "      <td>A twisted yet ingenious killer torments a vete...</td>\n",
       "    </tr>\n",
       "    <tr>\n",
       "      <th>350</th>\n",
       "      <td>Movie</td>\n",
       "      <td>Space Cowboys</td>\n",
       "      <td>Clint Eastwood</td>\n",
       "      <td>Clint Eastwood, Tommy Lee Jones, Donald Suther...</td>\n",
       "      <td>United States</td>\n",
       "      <td>August 1, 2021</td>\n",
       "      <td>2000</td>\n",
       "      <td>PG-13</td>\n",
       "      <td>A retired engineer agrees to help NASA prevent...</td>\n",
       "    </tr>\n",
       "    <tr>\n",
       "      <th>799</th>\n",
       "      <td>Movie</td>\n",
       "      <td>Million Dollar Baby</td>\n",
       "      <td>Clint Eastwood</td>\n",
       "      <td>Clint Eastwood, Hilary Swank, Morgan Freeman, ...</td>\n",
       "      <td>United States</td>\n",
       "      <td>June 2, 2021</td>\n",
       "      <td>2004</td>\n",
       "      <td>PG-13</td>\n",
       "      <td>When a cantankerous trainer mentors a persiste...</td>\n",
       "    </tr>\n",
       "    <tr>\n",
       "      <th>819</th>\n",
       "      <td>Movie</td>\n",
       "      <td>The Outlaw Josey Wales</td>\n",
       "      <td>Clint Eastwood</td>\n",
       "      <td>Clint Eastwood, Sondra Locke, Chief Dan George...</td>\n",
       "      <td>United States</td>\n",
       "      <td>June 2, 2021</td>\n",
       "      <td>1976</td>\n",
       "      <td>PG</td>\n",
       "      <td>In this gritty Oscar-nominated Western, an ex-...</td>\n",
       "    </tr>\n",
       "    <tr>\n",
       "      <th>6888</th>\n",
       "      <td>Movie</td>\n",
       "      <td>Gran Torino</td>\n",
       "      <td>Clint Eastwood</td>\n",
       "      <td>Clint Eastwood, Bee Vang, Ahney Her, Christoph...</td>\n",
       "      <td>Germany, United States</td>\n",
       "      <td>October 1, 2020</td>\n",
       "      <td>2008</td>\n",
       "      <td>R</td>\n",
       "      <td>A newly widowed Korean War veteran faces his r...</td>\n",
       "    </tr>\n",
       "  </tbody>\n",
       "</table>\n",
       "</div>"
      ],
      "text/plain": [
       "       type                   title           director  \\\n",
       "183   Movie     In the Line of Fire  Wolfgang Petersen   \n",
       "350   Movie           Space Cowboys     Clint Eastwood   \n",
       "799   Movie     Million Dollar Baby     Clint Eastwood   \n",
       "819   Movie  The Outlaw Josey Wales     Clint Eastwood   \n",
       "6888  Movie             Gran Torino     Clint Eastwood   \n",
       "\n",
       "                                                   cast  \\\n",
       "183   Clint Eastwood, John Malkovich, Rene Russo, Dy...   \n",
       "350   Clint Eastwood, Tommy Lee Jones, Donald Suther...   \n",
       "799   Clint Eastwood, Hilary Swank, Morgan Freeman, ...   \n",
       "819   Clint Eastwood, Sondra Locke, Chief Dan George...   \n",
       "6888  Clint Eastwood, Bee Vang, Ahney Her, Christoph...   \n",
       "\n",
       "                     country       date_added  release_year rating  \\\n",
       "183            United States  August 31, 2021          1993      R   \n",
       "350            United States   August 1, 2021          2000  PG-13   \n",
       "799            United States     June 2, 2021          2004  PG-13   \n",
       "819            United States     June 2, 2021          1976     PG   \n",
       "6888  Germany, United States  October 1, 2020          2008      R   \n",
       "\n",
       "                                            description  \n",
       "183   A twisted yet ingenious killer torments a vete...  \n",
       "350   A retired engineer agrees to help NASA prevent...  \n",
       "799   When a cantankerous trainer mentors a persiste...  \n",
       "819   In this gritty Oscar-nominated Western, an ex-...  \n",
       "6888  A newly widowed Korean War veteran faces his r...  "
      ]
     },
     "execution_count": 59,
     "metadata": {},
     "output_type": "execute_result"
    }
   ],
   "source": [
    "df[df['cast'].str.contains(\"Clint Eastwood\")]"
   ]
  },
  {
   "cell_type": "markdown",
   "metadata": {},
   "source": [
    "## plot the values of rating column"
   ]
  },
  {
   "cell_type": "code",
   "execution_count": 60,
   "metadata": {},
   "outputs": [
    {
     "data": {
      "text/plain": [
       "17"
      ]
     },
     "execution_count": 60,
     "metadata": {},
     "output_type": "execute_result"
    }
   ],
   "source": [
    "df[\"rating\"].nunique()"
   ]
  },
  {
   "cell_type": "code",
   "execution_count": 61,
   "metadata": {},
   "outputs": [],
   "source": [
    "order_r = df['rating'].value_counts().index[:14]"
   ]
  },
  {
   "cell_type": "code",
   "execution_count": 62,
   "metadata": {},
   "outputs": [
    {
     "name": "stderr",
     "output_type": "stream",
     "text": [
      "C:\\Users\\moh\\anaconda3\\lib\\site-packages\\seaborn\\_decorators.py:36: FutureWarning: Pass the following variable as a keyword arg: x. From version 0.12, the only valid positional argument will be `data`, and passing other arguments without an explicit keyword will result in an error or misinterpretation.\n",
      "  warnings.warn(\n"
     ]
    },
    {
     "data": {
      "image/png": "[encoded data removed]",
      "text/plain": [
       "<Figure size 720x576 with 1 Axes>"
      ]
     },
     "metadata": {
      "needs_background": "light"
     },
     "output_type": "display_data"
    }
   ],
   "source": [
    "plt.figure(figsize=(10,8))\n",
    "sns.countplot(df[\"rating\"] , order=order_r)\n",
    "plt.title(\"Rating\");"
   ]
  },
  {
   "cell_type": "markdown",
   "metadata": {},
   "source": [
    "## relation between Type and Rating of Movies and Shows"
   ]
  },
  {
   "cell_type": "code",
   "execution_count": 63,
   "metadata": {},
   "outputs": [
    {
     "data": {
      "image/png": "[encoded data removed]",
      "text/plain": [
       "<Figure size 720x576 with 1 Axes>"
      ]
     },
     "metadata": {
      "needs_background": "light"
     },
     "output_type": "display_data"
    }
   ],
   "source": [
    "plt.figure(figsize=(10,8))\n",
    "sns.countplot(x= \"rating\" , hue=\"type\" , data=df ,order=order_r)\n",
    "plt.title(\"relation between Type and Rating of Movies and Shows\");"
   ]
  },
  {
   "cell_type": "markdown",
   "metadata": {},
   "source": [
    "## top 5 years have movies"
   ]
  },
  {
   "cell_type": "code",
   "execution_count": 83,
   "metadata": {},
   "outputs": [],
   "source": [
    "df[\"date_added\"] = pd.to_datetime(df[\"date_added\"])\n",
    "df[\"year_added\"] =df[\"date_added\"].dt.year"
   ]
  },
  {
   "cell_type": "code",
   "execution_count": 84,
   "metadata": {},
   "outputs": [
    {
     "data": {
      "text/html": [
       "<div>\n",
       "<style scoped>\n",
       "    .dataframe tbody tr th:only-of-type {\n",
       "        vertical-align: middle;\n",
       "    }\n",
       "\n",
       "    .dataframe tbody tr th {\n",
       "        vertical-align: top;\n",
       "    }\n",
       "\n",
       "    .dataframe thead th {\n",
       "        text-align: right;\n",
       "    }\n",
       "</style>\n",
       "<table border=\"1\" class=\"dataframe\">\n",
       "  <thead>\n",
       "    <tr style=\"text-align: right;\">\n",
       "      <th></th>\n",
       "      <th>type</th>\n",
       "      <th>title</th>\n",
       "      <th>director</th>\n",
       "      <th>cast</th>\n",
       "      <th>country</th>\n",
       "      <th>date_added</th>\n",
       "      <th>release_year</th>\n",
       "      <th>rating</th>\n",
       "      <th>description</th>\n",
       "      <th>year_added</th>\n",
       "    </tr>\n",
       "  </thead>\n",
       "  <tbody>\n",
       "    <tr>\n",
       "      <th>0</th>\n",
       "      <td>Movie</td>\n",
       "      <td>Dick Johnson Is Dead</td>\n",
       "      <td>Kirsten Johnson</td>\n",
       "      <td>&lt;NA&gt;</td>\n",
       "      <td>United States</td>\n",
       "      <td>2021-09-25</td>\n",
       "      <td>2020</td>\n",
       "      <td>PG-13</td>\n",
       "      <td>As her father nears the end of his life, filmm...</td>\n",
       "      <td>2021.0</td>\n",
       "    </tr>\n",
       "    <tr>\n",
       "      <th>1</th>\n",
       "      <td>TV Show</td>\n",
       "      <td>Blood &amp; Water</td>\n",
       "      <td>&lt;NA&gt;</td>\n",
       "      <td>Ama Qamata, Khosi Ngema, Gail Mabalane, Thaban...</td>\n",
       "      <td>South Africa</td>\n",
       "      <td>2021-09-24</td>\n",
       "      <td>2021</td>\n",
       "      <td>TV-MA</td>\n",
       "      <td>After crossing paths at a party, a Cape Town t...</td>\n",
       "      <td>2021.0</td>\n",
       "    </tr>\n",
       "    <tr>\n",
       "      <th>2</th>\n",
       "      <td>TV Show</td>\n",
       "      <td>Ganglands</td>\n",
       "      <td>Julien Leclercq</td>\n",
       "      <td>Sami Bouajila, Tracy Gotoas, Samuel Jouy, Nabi...</td>\n",
       "      <td>United States</td>\n",
       "      <td>2021-09-24</td>\n",
       "      <td>2021</td>\n",
       "      <td>TV-MA</td>\n",
       "      <td>To protect his family from a powerful drug lor...</td>\n",
       "      <td>2021.0</td>\n",
       "    </tr>\n",
       "    <tr>\n",
       "      <th>3</th>\n",
       "      <td>TV Show</td>\n",
       "      <td>Jailbirds New Orleans</td>\n",
       "      <td>&lt;NA&gt;</td>\n",
       "      <td>&lt;NA&gt;</td>\n",
       "      <td>United States</td>\n",
       "      <td>2021-09-24</td>\n",
       "      <td>2021</td>\n",
       "      <td>TV-MA</td>\n",
       "      <td>Feuds, flirtations and toilet talk go down amo...</td>\n",
       "      <td>2021.0</td>\n",
       "    </tr>\n",
       "    <tr>\n",
       "      <th>4</th>\n",
       "      <td>TV Show</td>\n",
       "      <td>Kota Factory</td>\n",
       "      <td>&lt;NA&gt;</td>\n",
       "      <td>Mayur More, Jitendra Kumar, Ranjan Raj, Alam K...</td>\n",
       "      <td>India</td>\n",
       "      <td>2021-09-24</td>\n",
       "      <td>2021</td>\n",
       "      <td>TV-MA</td>\n",
       "      <td>In a city of coaching centers known to train I...</td>\n",
       "      <td>2021.0</td>\n",
       "    </tr>\n",
       "  </tbody>\n",
       "</table>\n",
       "</div>"
      ],
      "text/plain": [
       "      type                  title         director  \\\n",
       "0    Movie   Dick Johnson Is Dead  Kirsten Johnson   \n",
       "1  TV Show          Blood & Water             <NA>   \n",
       "2  TV Show              Ganglands  Julien Leclercq   \n",
       "3  TV Show  Jailbirds New Orleans             <NA>   \n",
       "4  TV Show           Kota Factory             <NA>   \n",
       "\n",
       "                                                cast        country  \\\n",
       "0                                               <NA>  United States   \n",
       "1  Ama Qamata, Khosi Ngema, Gail Mabalane, Thaban...   South Africa   \n",
       "2  Sami Bouajila, Tracy Gotoas, Samuel Jouy, Nabi...  United States   \n",
       "3                                               <NA>  United States   \n",
       "4  Mayur More, Jitendra Kumar, Ranjan Raj, Alam K...          India   \n",
       "\n",
       "  date_added  release_year rating  \\\n",
       "0 2021-09-25          2020  PG-13   \n",
       "1 2021-09-24          2021  TV-MA   \n",
       "2 2021-09-24          2021  TV-MA   \n",
       "3 2021-09-24          2021  TV-MA   \n",
       "4 2021-09-24          2021  TV-MA   \n",
       "\n",
       "                                         description  year_added  \n",
       "0  As her father nears the end of his life, filmm...      2021.0  \n",
       "1  After crossing paths at a party, a Cape Town t...      2021.0  \n",
       "2  To protect his family from a powerful drug lor...      2021.0  \n",
       "3  Feuds, flirtations and toilet talk go down amo...      2021.0  \n",
       "4  In a city of coaching centers known to train I...      2021.0  "
      ]
     },
     "execution_count": 84,
     "metadata": {},
     "output_type": "execute_result"
    }
   ],
   "source": [
    "df.head()"
   ]
  },
  {
   "cell_type": "code",
   "execution_count": 87,
   "metadata": {},
   "outputs": [
    {
     "data": {
      "image/png": "[encoded data removed]",
      "text/plain": [
       "<Figure size 576x576 with 1 Axes>"
      ]
     },
     "metadata": {
      "needs_background": "light"
     },
     "output_type": "display_data"
    }
   ],
   "source": [
    "plt.figure(figsize=(8,8))\n",
    "sns.countplot(x = df[\"year_added\"] , order=df['year_added'].value_counts().index[:5]);"
   ]
  },
  {
   "cell_type": "code",
   "execution_count": null,
   "metadata": {},
   "outputs": [],
   "source": []
  }
 ],
 "metadata": {
  "kernelspec": {
   "display_name": "Python 3",
   "language": "python",
   "name": "python3"
  },
  "language_info": {
   "codemirror_mode": {
    "name": "ipython",
    "version": 3
   },
   "file_extension": ".py",
   "mimetype": "text/x-python",
   "name": "python",
   "nbconvert_exporter": "python",
   "pygments_lexer": "ipython3",
   "version": "3.8.5"
  }
 },
 "nbformat": 4,
 "nbformat_minor": 4
}
